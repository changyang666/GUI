{
 "cells": [
  {
   "cell_type": "code",
   "execution_count": 1,
   "metadata": {},
   "outputs": [],
   "source": [
    "import PySimpleGUI as sg\n",
    "import torch\n",
    "from torch import nn\n",
    "import numpy as np"
   ]
  },
  {
   "cell_type": "code",
   "execution_count": 2,
   "metadata": {},
   "outputs": [
    {
     "name": "stdout",
     "output_type": "stream",
     "text": [
      "1.26.3\n"
     ]
    }
   ],
   "source": [
    "print(np.__version__)"
   ]
  },
  {
   "cell_type": "code",
   "execution_count": 3,
   "metadata": {},
   "outputs": [],
   "source": [
    "class Net(nn.Module):\n",
    "    def __init__(self, layer_size):\n",
    "        super().__init__()\n",
    "        # layers here\n",
    "        self.layers = nn.ModuleList()\n",
    "\n",
    "        self.layers.append(nn.Linear(in_features=51, out_features=layer_size[0]))\n",
    "\n",
    "        for i in range(1, len(layer_size)):\n",
    "          self.layers.append(nn.Linear(layer_size[i-1], layer_size[i]))\n",
    "\n",
    "    def forward(self, x):\n",
    "\n",
    "        # forward prop\n",
    "        for layer in self.layers[:-1]:\n",
    "          x = torch.relu(layer(x))\n",
    "\n",
    "        x = torch.sigmoid(self.layers[-1](x))\n",
    "\n",
    "        return x\n"
   ]
  },
  {
   "cell_type": "code",
   "execution_count": 4,
   "metadata": {},
   "outputs": [],
   "source": [
    "net = torch.load('bayes.pt')\n"
   ]
  },
  {
   "cell_type": "code",
   "execution_count": null,
   "metadata": {},
   "outputs": [],
   "source": [
    "# All the stuff inside your window.\n",
    "layout = [  [sg.Text('Some text on Row 1')],\n",
    "            [sg.Text('Enter something on Row 2'), sg.InputText()],\n",
    "            [sg.Button('Ok'), sg.Button('Cancel')] ]\n",
    "\n",
    "# Create the Window\n",
    "window = sg.Window('Window Title', layout)\n",
    "\n",
    "# Event Loop to process \"events\" and get the \"values\" of the inputs\n",
    "while True:\n",
    "    event, values = window.read()\n",
    "    if event == sg.WIN_CLOSED or event == 'Cancel': # if user closes window or clicks cancel\n",
    "        break\n",
    "    print('You entered ', values[0])\n",
    "\n",
    "window.close()"
   ]
  }
 ],
 "metadata": {
  "kernelspec": {
   "display_name": "Python 3",
   "language": "python",
   "name": "python3"
  },
  "language_info": {
   "codemirror_mode": {
    "name": "ipython",
    "version": 3
   },
   "file_extension": ".py",
   "mimetype": "text/x-python",
   "name": "python",
   "nbconvert_exporter": "python",
   "pygments_lexer": "ipython3",
   "version": "3.12.3"
  }
 },
 "nbformat": 4,
 "nbformat_minor": 2
}
